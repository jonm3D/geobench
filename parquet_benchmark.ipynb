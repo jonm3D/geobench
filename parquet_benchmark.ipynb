{
 "cells": [
  {
   "cell_type": "code",
   "execution_count": 1,
   "id": "605217d8-4bf3-4899-ad0e-0cb19d748e32",
   "metadata": {
    "tags": []
   },
   "outputs": [],
   "source": [
    "# testing geoparquet\n",
    "# geopackages are taking 4 ever to write"
   ]
  },
  {
   "cell_type": "markdown",
   "id": "3bacf642-f30d-456b-b09e-afcea28e7bbf",
   "metadata": {
    "user_expressions": []
   },
   "source": [
    "# Write to geoparquet vs write to geopackage"
   ]
  },
  {
   "cell_type": "code",
   "execution_count": 2,
   "id": "d21eb1d2-cb9f-43df-b938-59b6b722d1e7",
   "metadata": {
    "tags": []
   },
   "outputs": [
    {
     "name": "stdout",
     "output_type": "stream",
     "text": [
      "Requirement already satisfied: pyogrio in /srv/conda/envs/notebook/lib/python3.10/site-packages (0.6.0)\n",
      "Requirement already satisfied: certifi in /srv/conda/envs/notebook/lib/python3.10/site-packages (from pyogrio) (2023.5.7)\n",
      "Requirement already satisfied: numpy in /srv/conda/envs/notebook/lib/python3.10/site-packages (from pyogrio) (1.23.5)\n",
      "Note: you may need to restart the kernel to use updated packages.\n"
     ]
    }
   ],
   "source": [
    "pip install pyogrio"
   ]
  },
  {
   "cell_type": "code",
   "execution_count": 3,
   "id": "ab0b9f90-9c71-4b27-96c4-e57f0adae353",
   "metadata": {
    "tags": []
   },
   "outputs": [
    {
     "name": "stderr",
     "output_type": "stream",
     "text": [
      "/tmp/ipykernel_988/91691533.py:1: UserWarning: Shapely 2.0 is installed, but because PyGEOS is also installed, GeoPandas will still use PyGEOS by default for now. To force to use and test Shapely 2.0, you have to set the environment variable USE_PYGEOS=0. You can do this before starting the Python process, or in your code before importing geopandas:\n",
      "\n",
      "import os\n",
      "os.environ['USE_PYGEOS'] = '0'\n",
      "import geopandas\n",
      "\n",
      "In a future release, GeoPandas will switch to using Shapely by default. If you are using PyGEOS directly (calling PyGEOS functions on geometries from GeoPandas), this will then stop working and you are encouraged to migrate from PyGEOS to Shapely 2.0 (https://shapely.readthedocs.io/en/latest/migration_pygeos.html).\n",
      "  import geopandas as gpd\n"
     ]
    },
    {
     "name": "stdout",
     "output_type": "stream",
     "text": [
      "Benchmarking parquet write...\n",
      "Benchmarking parquet read...\n",
      "Benchmarking GeoPackage write with pyogrio...\n",
      "Benchmarking GeoPackage read with pyogrio...\n",
      "Benchmarking GeoPackage write without pyogrio...\n",
      "Benchmarking GeoPackage read without pyogrio...\n"
     ]
    }
   ],
   "source": [
    "import geopandas as gpd\n",
    "import os\n",
    "import pandas as pd\n",
    "import matplotlib.pyplot as plt\n",
    "import timeit\n",
    "import seaborn as sns\n",
    "from matplotlib.ticker import MaxNLocator\n",
    "\n",
    "\n",
    "path_to_file = \"/home/jovyan/geobench/data/CASCADES_N_20200501_20201201_L20_S20.gpkg\"\n",
    "bench_dir = \"/home/jovyan/geobench/data\"\n",
    "\n",
    "df = gpd.read_file(path_to_file, engine=\"pyogrio\")\n",
    "\n",
    "def write_to_parquet():\n",
    "    df.to_parquet(os.path.join(bench_dir, 'test.parquet'))\n",
    "\n",
    "def read_from_parquet():\n",
    "    gpd.read_parquet(os.path.join(bench_dir, 'test.parquet'))\n",
    "\n",
    "def write_with_pyogrio():\n",
    "    df.to_file(os.path.join(bench_dir, 'test.gpkg'), driver='GPKG', engine=\"pyogrio\")\n",
    "    \n",
    "def write_without_pyogrio():\n",
    "    df.to_file(os.path.join(bench_dir, 'test.gpkg'), driver='GPKG')\n",
    "\n",
    "def read_with_pyogrio():\n",
    "    gpd.read_file(os.path.join(bench_dir, 'test.gpkg'), engine=\"pyogrio\")\n",
    "\n",
    "def read_without_pyogrio():\n",
    "    gpd.read_file(os.path.join(bench_dir, 'test.gpkg'))\n",
    "\n",
    "number_of_repeats = 5\n",
    "\n",
    "print('Benchmarking parquet write...')\n",
    "parquet_write_time = timeit.timeit(write_to_parquet, number=number_of_repeats) / number_of_repeats\n",
    "print('Benchmarking parquet read...')\n",
    "parquet_read_time = timeit.timeit(read_from_parquet, number=number_of_repeats) / number_of_repeats\n",
    "\n",
    "print('Benchmarking GeoPackage write with pyogrio...')\n",
    "gpkg_write_time_pyogrio = timeit.timeit(write_with_pyogrio, number=number_of_repeats) / number_of_repeats\n",
    "print('Benchmarking GeoPackage read with pyogrio...')\n",
    "gpkg_read_time_pyogrio = timeit.timeit(read_with_pyogrio, number=number_of_repeats) / number_of_repeats\n",
    "\n",
    "print('Benchmarking GeoPackage write without pyogrio...')\n",
    "gpkg_write_time_without_pyogrio = timeit.timeit(write_without_pyogrio, number=number_of_repeats) / number_of_repeats\n",
    "print('Benchmarking GeoPackage read without pyogrio...')\n",
    "gpkg_read_time_without_pyogrio = timeit.timeit(read_without_pyogrio, number=number_of_repeats) / number_of_repeats"
   ]
  },
  {
   "cell_type": "code",
   "execution_count": 33,
   "id": "52c2487d-1118-4847-ae06-5c5411eafe30",
   "metadata": {
    "tags": []
   },
   "outputs": [],
   "source": [
    "# Storing results in a dataframe for writing\n",
    "write_results = {\n",
    "    'Format': ['parquet', 'gpkg (pyogrio)', 'gpkg'],\n",
    "    'Average Write Time (s)': [parquet_write_time, gpkg_write_time_pyogrio, gpkg_write_time_without_pyogrio]\n",
    "}\n",
    "write_df = pd.DataFrame(write_results)\n",
    "\n",
    "# Storing results in a dataframe for reading\n",
    "read_results = {\n",
    "    'Format': ['parquet', 'gpkg (pyogrio)', 'gpkg'],\n",
    "    'Average Read Time (s)': [parquet_read_time, gpkg_read_time_pyogrio, gpkg_read_time_without_pyogrio]\n",
    "}\n",
    "read_df = pd.DataFrame(read_results)\n",
    "\n",
    "# Combine the write and read dataframes for easy plotting\n",
    "combined_df = write_df.merge(read_df, on='Format')\n",
    "melted_df = combined_df.melt(id_vars=['Format'], value_vars=['Average Write Time (s)', 'Average Read Time (s)'])\n",
    "\n",
    "# Simplify the variable names for the hue labels\n",
    "melted_df['variable'] = melted_df['variable'].replace({\n",
    "    'Average Write Time (s)': 'Write',\n",
    "    'Average Read Time (s)': 'Read'\n",
    "})"
   ]
  },
  {
   "cell_type": "code",
   "execution_count": 34,
   "id": "6d85acf8-8cb2-4136-b95a-26bdd8c33034",
   "metadata": {
    "tags": []
   },
   "outputs": [
    {
     "data": {
      "image/png": "[encoded data removed]",
      "text/plain": [
       "<Figure size 600x500 with 1 Axes>"
      ]
     },
     "metadata": {},
     "output_type": "display_data"
    },
    {
     "data": {
      "text/plain": [
       "<Figure size 640x480 with 0 Axes>"
      ]
     },
     "metadata": {},
     "output_type": "display_data"
    }
   ],
   "source": [
    "# Display the results\n",
    "plt.figure(figsize=(6, 5))\n",
    "sns.barplot(x='Format', y='value', hue='variable', data=melted_df)\n",
    "plt.xlabel('')\n",
    "plt.ylabel('Average Time (s)')\n",
    "plt.title('Benchmarking Read/Write for Parquet vs GeoPackage')\n",
    "plt.legend()\n",
    "plt.tight_layout()\n",
    "plt.show()\n",
    "\n",
    "plt.savefig(os.path.join(bench_dir, 'speed_results.png'))"
   ]
  },
  {
   "cell_type": "code",
   "execution_count": 31,
   "id": "90d51042-cfa0-4c45-9c34-4ff4a3f224f6",
   "metadata": {
    "tags": []
   },
   "outputs": [
    {
     "data": {
      "image/png": "[encoded data removed]",
      "text/plain": [
       "<Figure size 600x500 with 1 Axes>"
      ]
     },
     "metadata": {},
     "output_type": "display_data"
    },
    {
     "data": {
      "text/plain": [
       "<Figure size 640x480 with 0 Axes>"
      ]
     },
     "metadata": {},
     "output_type": "display_data"
    }
   ],
   "source": [
    "# Get the file sizes\n",
    "def get_file_size(file_path):\n",
    "    return os.path.getsize(file_path) / 1024 / 1024  # Convert to MB\n",
    "\n",
    "parquet_file_size = get_file_size(os.path.join(bench_dir, 'test.parquet'))\n",
    "gpkg_file_size = get_file_size(os.path.join(bench_dir, 'test.gpkg'))\n",
    "\n",
    "# Create DataFrame to store results\n",
    "size_results = {\n",
    "    'Format': ['parquet', 'gpkg'],\n",
    "    'MB': [parquet_file_size, gpkg_file_size]\n",
    "}\n",
    "size_df = pd.DataFrame(size_results)\n",
    "\n",
    "plt.figure(figsize=(6, 5))\n",
    "ax = sns.barplot(x='Format', y='MB', data=size_df)\n",
    "\n",
    "# Setting integer only y-axis\n",
    "ax.yaxis.set_major_locator(MaxNLocator(integer=True))\n",
    "\n",
    "plt.title('File Size')\n",
    "plt.xlabel('')\n",
    "plt.tight_layout()\n",
    "plt.show()\n",
    "\n",
    "plt.savefig(os.path.join(bench_dir, 'size_results.png'))\n"
   ]
  },
  {
   "cell_type": "code",
   "execution_count": null,
   "id": "5a483cc8-eda1-4c7e-8e4c-052bdd67910f",
   "metadata": {},
   "outputs": [],
   "source": []
  }
 ],
 "metadata": {
  "kernelspec": {
   "display_name": "Python 3 (ipykernel)",
   "language": "python",
   "name": "python3"
  },
  "language_info": {
   "codemirror_mode": {
    "name": "ipython",
    "version": 3
   },
   "file_extension": ".py",
   "mimetype": "text/x-python",
   "name": "python",
   "nbconvert_exporter": "python",
   "pygments_lexer": "ipython3",
   "version": "3.10.12"
  }
 },
 "nbformat": 4,
 "nbformat_minor": 5
}
