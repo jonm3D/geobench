{
 "cells": [
  {
   "cell_type": "markdown",
   "id": "9ec33b72-0106-4844-8fbf-46b618e9dcca",
   "metadata": {
    "tags": [],
    "user_expressions": []
   },
   "source": [
    "# Benchmarking GeoPackage and Parquet\n",
    " \n",
    "Writing large geopackages can take forever with GeoPandas. How much does Parquet / pyogrio speed things up?\n",
    "\n",
    "Jonathan Markel  \n",
    "3D Geospatial Laboratory  \n",
    "The University of Texas at Austin  \n",
    "08/30/2023\n",
    "\n",
    "##### [Twitter](https://twitter.com/jonm3d) | [GitHub](https://github.com/jonm3d) | [Website](http://j3d.space) | [GoogleScholar](https://scholar.google.com/citations?user=KwxwFgYAAAAJ&hl=en) | [LinkedIn](https://www.linkedin.com/in/j-markel/) "
   ]
  },
  {
   "cell_type": "code",
   "execution_count": 1,
   "id": "d21eb1d2-cb9f-43df-b938-59b6b722d1e7",
   "metadata": {
    "tags": []
   },
   "outputs": [
    {
     "name": "stdout",
     "output_type": "stream",
     "text": [
      "Requirement already satisfied: pyogrio in /srv/conda/envs/notebook/lib/python3.10/site-packages (0.6.0)\n",
      "Requirement already satisfied: numpy in /srv/conda/envs/notebook/lib/python3.10/site-packages (from pyogrio) (1.23.5)\n",
      "Requirement already satisfied: certifi in /srv/conda/envs/notebook/lib/python3.10/site-packages (from pyogrio) (2023.5.7)\n",
      "Note: you may need to restart the kernel to use updated packages.\n"
     ]
    }
   ],
   "source": [
    "pip install pyogrio"
   ]
  },
  {
   "cell_type": "code",
   "execution_count": 2,
   "id": "0587fb85-3504-4961-a7da-0a02fb2adb19",
   "metadata": {},
   "outputs": [
    {
     "name": "stderr",
     "output_type": "stream",
     "text": [
      "/tmp/ipykernel_1996/244933391.py:1: UserWarning: Shapely 2.0 is installed, but because PyGEOS is also installed, GeoPandas will still use PyGEOS by default for now. To force to use and test Shapely 2.0, you have to set the environment variable USE_PYGEOS=0. You can do this before starting the Python process, or in your code before importing geopandas:\n",
      "\n",
      "import os\n",
      "os.environ['USE_PYGEOS'] = '0'\n",
      "import geopandas\n",
      "\n",
      "In a future release, GeoPandas will switch to using Shapely by default. If you are using PyGEOS directly (calling PyGEOS functions on geometries from GeoPandas), this will then stop working and you are encouraged to migrate from PyGEOS to Shapely 2.0 (https://shapely.readthedocs.io/en/latest/migration_pygeos.html).\n",
      "  import geopandas as gpd\n"
     ]
    }
   ],
   "source": [
    "import geopandas as gpd\n",
    "import os\n",
    "import pandas as pd\n",
    "import seaborn as sns\n",
    "import matplotlib.pyplot as plt\n",
    "import timeit\n",
    "from matplotlib.ticker import MaxNLocator"
   ]
  },
  {
   "cell_type": "code",
   "execution_count": 3,
   "id": "ab0b9f90-9c71-4b27-96c4-e57f0adae353",
   "metadata": {
    "tags": []
   },
   "outputs": [
    {
     "name": "stdout",
     "output_type": "stream",
     "text": [
      "Benchmarking parquet write...\n",
      "Benchmarking parquet read...\n"
     ]
    }
   ],
   "source": [
    "path_to_file = \"/home/jovyan/geobench/data/larger.gpkg\"\n",
    "bench_dir = \"/home/jovyan/geobench/outputs\"\n",
    "\n",
    "df = gpd.read_file(path_to_file, engine=\"pyogrio\")\n",
    "\n",
    "def write_to_parquet():\n",
    "    df.to_parquet(os.path.join(bench_dir, 'test.parquet'))\n",
    "\n",
    "def read_from_parquet():\n",
    "    gpd.read_parquet(os.path.join(bench_dir, 'test.parquet'))\n",
    "\n",
    "def write_with_pyogrio():\n",
    "    df.to_file(os.path.join(bench_dir, 'test.gpkg'), driver='GPKG', engine=\"pyogrio\")\n",
    "    \n",
    "def write_without_pyogrio():\n",
    "    df.to_file(os.path.join(bench_dir, 'test.gpkg'), driver='GPKG')\n",
    "\n",
    "def read_with_pyogrio():\n",
    "    gpd.read_file(os.path.join(bench_dir, 'test.gpkg'), engine=\"pyogrio\")\n",
    "\n",
    "def read_without_pyogrio():\n",
    "    gpd.read_file(os.path.join(bench_dir, 'test.gpkg'))\n",
    "\n",
    "number_of_repeats = 7\n",
    "\n",
    "print('Benchmarking parquet write...')\n",
    "parquet_write_time = timeit.timeit(write_to_parquet, number=number_of_repeats) / number_of_repeats\n",
    "print('Benchmarking parquet read...')\n",
    "parquet_read_time = timeit.timeit(read_from_parquet, number=number_of_repeats) / number_of_repeats"
   ]
  },
  {
   "cell_type": "code",
   "execution_count": 4,
   "id": "b886a6ca-1888-43dc-97ee-1101d645372a",
   "metadata": {},
   "outputs": [
    {
     "name": "stdout",
     "output_type": "stream",
     "text": [
      "Benchmarking GeoPackage write with pyogrio...\n",
      "Benchmarking GeoPackage read with pyogrio...\n"
     ]
    }
   ],
   "source": [
    "print('Benchmarking GeoPackage write with pyogrio...')\n",
    "gpkg_write_time_pyogrio = timeit.timeit(write_with_pyogrio, number=number_of_repeats) / number_of_repeats\n",
    "print('Benchmarking GeoPackage read with pyogrio...')\n",
    "gpkg_read_time_pyogrio = timeit.timeit(read_with_pyogrio, number=number_of_repeats) / number_of_repeats"
   ]
  },
  {
   "cell_type": "code",
   "execution_count": null,
   "id": "617c0e48-728b-4a85-a8ec-9f22eb53d038",
   "metadata": {},
   "outputs": [
    {
     "name": "stdout",
     "output_type": "stream",
     "text": [
      "Benchmarking GeoPackage write without pyogrio...\n",
      "Benchmarking GeoPackage read without pyogrio...\n"
     ]
    }
   ],
   "source": [
    "print('Benchmarking GeoPackage write without pyogrio...')\n",
    "gpkg_write_time_without_pyogrio = timeit.timeit(write_without_pyogrio, number=number_of_repeats) / number_of_repeats\n",
    "print('Benchmarking GeoPackage read without pyogrio...')\n",
    "gpkg_read_time_without_pyogrio = timeit.timeit(read_without_pyogrio, number=number_of_repeats) / number_of_repeats"
   ]
  },
  {
   "cell_type": "code",
   "execution_count": null,
   "id": "52c2487d-1118-4847-ae06-5c5411eafe30",
   "metadata": {
    "tags": []
   },
   "outputs": [],
   "source": [
    "# Storing results in a dataframe for writing\n",
    "write_results = {\n",
    "    'Format': ['parquet', 'gpkg (pyogrio)', 'gpkg'],\n",
    "    'Average Write Time (s)': [parquet_write_time, gpkg_write_time_pyogrio, gpkg_write_time_without_pyogrio]\n",
    "}\n",
    "write_df = pd.DataFrame(write_results)\n",
    "\n",
    "# Storing results in a dataframe for reading\n",
    "read_results = {\n",
    "    'Format': ['parquet', 'gpkg (pyogrio)', 'gpkg'],\n",
    "    'Average Read Time (s)': [parquet_read_time, gpkg_read_time_pyogrio, gpkg_read_time_without_pyogrio]\n",
    "}\n",
    "read_df = pd.DataFrame(read_results)\n",
    "\n",
    "# Combine the write and read dataframes for easy plotting\n",
    "combined_df = write_df.merge(read_df, on='Format')\n",
    "melted_df = combined_df.melt(id_vars=['Format'], value_vars=['Average Write Time (s)', 'Average Read Time (s)'])\n",
    "\n",
    "# Simplify the variable names for the hue labels\n",
    "melted_df['variable'] = melted_df['variable'].replace({\n",
    "    'Average Write Time (s)': 'Write',\n",
    "    'Average Read Time (s)': 'Read'\n",
    "})"
   ]
  },
  {
   "cell_type": "code",
   "execution_count": null,
   "id": "6d85acf8-8cb2-4136-b95a-26bdd8c33034",
   "metadata": {
    "tags": []
   },
   "outputs": [],
   "source": [
    "plt.figure(figsize=(6, 5))\n",
    "sns.barplot(x='Format', y='value', hue='variable', data=melted_df)\n",
    "plt.xlabel('')\n",
    "plt.ylabel('Average Time (s)')\n",
    "plt.title('Benchmarking Parquet vs GeoPackage')\n",
    "plt.legend(loc='lower right')\n",
    "\n",
    "plt.annotate('@jonm3d',\n",
    "             xy=(0.05, 0.95), \n",
    "             xycoords='axes fraction',\n",
    "             fontsize=10, \n",
    "             alpha=0.7,\n",
    "             color='grey')\n",
    "\n",
    "plt.tight_layout()\n",
    "\n",
    "plt.savefig(os.path.join(bench_dir, 'speed_results.png'))"
   ]
  },
  {
   "cell_type": "code",
   "execution_count": null,
   "id": "90d51042-cfa0-4c45-9c34-4ff4a3f224f6",
   "metadata": {
    "tags": []
   },
   "outputs": [],
   "source": [
    "# Get the file sizes\n",
    "def get_file_size(file_path):\n",
    "    return os.path.getsize(file_path) / 1024 / 1024  # Convert to MB\n",
    "\n",
    "parquet_file_size = get_file_size(os.path.join(bench_dir, 'test.parquet'))\n",
    "gpkg_file_size = get_file_size(os.path.join(bench_dir, 'test.gpkg'))\n",
    "\n",
    "# Create DataFrame to store results\n",
    "size_results = {\n",
    "    'Format': ['parquet', 'gpkg'],\n",
    "    'MB': [parquet_file_size, gpkg_file_size]\n",
    "}\n",
    "size_df = pd.DataFrame(size_results)\n",
    "\n",
    "plt.figure(figsize=(6, 5))\n",
    "ax = sns.barplot(x='Format', y='MB', data=size_df)\n",
    "\n",
    "plt.annotate('@jonm3d',\n",
    "             xy=(0.05, 0.95), \n",
    "             xycoords='axes fraction',\n",
    "             fontsize=10, \n",
    "             alpha=0.7,\n",
    "             color='grey')\n",
    "\n",
    "\n",
    "# Setting integer only y-axis\n",
    "ax.yaxis.set_major_locator(MaxNLocator(integer=True))\n",
    "\n",
    "plt.title('File Size')\n",
    "plt.xlabel('')\n",
    "plt.tight_layout()\n",
    "plt.savefig(os.path.join(bench_dir, 'size_results.png'))\n"
   ]
  },
  {
   "cell_type": "markdown",
   "id": "a2b6b2b0-dac1-44ad-ba5d-5196939ae710",
   "metadata": {
    "user_expressions": []
   },
   "source": [
    "Let's make sure the data we read in both ways is actually the same and there wasn't some error in the read w."
   ]
  },
  {
   "cell_type": "code",
   "execution_count": null,
   "id": "1ad1fcc9-59fc-4c73-b6f0-8b870319d17a",
   "metadata": {
    "tags": []
   },
   "outputs": [],
   "source": [
    "def compare_geodataframes(gdf1, gdf2):\n",
    "    # Check shape\n",
    "    if gdf1.shape != gdf2.shape:\n",
    "        return False\n",
    "    \n",
    "    # Check geometry equality\n",
    "    if not gdf1.geometry.equals(gdf2.geometry):\n",
    "        return False\n",
    "    \n",
    "    # Check attribute data equality\n",
    "    for column in gdf1.columns:\n",
    "        if column != \"geometry\":\n",
    "            if not gdf1[column].equals(gdf2[column]):\n",
    "                return False\n",
    "                \n",
    "    return True\n",
    "\n",
    "# Usage\n",
    "gdf_parquet = gpd.read_parquet(os.path.join(bench_dir, 'test.parquet'))\n",
    "gdf_gpkg = gpd.read_file(os.path.join(bench_dir, 'test.gpkg'), engine=\"pyogrio\")\n",
    "\n",
    "are_equal = compare_geodataframes(gdf_parquet, gdf_gpkg)\n",
    "if are_equal:\n",
    "    print('Both files match!')\n",
    "else:\n",
    "    print('Something went wrong, these data are different now.')\n"
   ]
  }
 ],
 "metadata": {
  "kernelspec": {
   "display_name": "Python 3 (ipykernel)",
   "language": "python",
   "name": "python3"
  },
  "language_info": {
   "codemirror_mode": {
    "name": "ipython",
    "version": 3
   },
   "file_extension": ".py",
   "mimetype": "text/x-python",
   "name": "python",
   "nbconvert_exporter": "python",
   "pygments_lexer": "ipython3",
   "version": "3.10.12"
  }
 },
 "nbformat": 4,
 "nbformat_minor": 5
}
