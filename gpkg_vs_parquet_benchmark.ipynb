{
 "cells": [
  {
   "cell_type": "markdown",
   "id": "9ec33b72-0106-4844-8fbf-46b618e9dcca",
   "metadata": {
    "tags": [],
    "user_expressions": []
   },
   "source": [
    "# Benchmarking Read/Write of Geospatial Data Formats\n",
    " \n",
    "Writing large geopackages can take forever with GeoPandas. How do other formats/engines stack up?\n",
    "\n",
    "Jonathan Markel  \n",
    "3D Geospatial Laboratory  \n",
    "The University of Texas at Austin  \n",
    "08/30/2023\n",
    "\n",
    "##### [Twitter](https://twitter.com/jonm3d) | [GitHub](https://github.com/jonm3d) | [Website](http://j3d.space) | [GoogleScholar](https://scholar.google.com/citations?user=KwxwFgYAAAAJ&hl=en) | [LinkedIn](https://www.linkedin.com/in/j-markel/) "
   ]
  },
  {
   "cell_type": "code",
   "execution_count": 1,
   "id": "d21eb1d2-cb9f-43df-b938-59b6b722d1e7",
   "metadata": {
    "tags": []
   },
   "outputs": [],
   "source": [
    "# pip install pyogrio"
   ]
  },
  {
   "cell_type": "code",
   "execution_count": 7,
   "id": "0587fb85-3504-4961-a7da-0a02fb2adb19",
   "metadata": {},
   "outputs": [],
   "source": [
    "import os\n",
    "import timeit\n",
    "import geopandas as gpd\n",
    "import pandas as pd\n",
    "import seaborn as sns\n",
    "import numpy as np\n",
    "import matplotlib.pyplot as plt\n",
    "from matplotlib.ticker import MaxNLocator"
   ]
  },
  {
   "cell_type": "code",
   "execution_count": 3,
   "id": "ab0b9f90-9c71-4b27-96c4-e57f0adae353",
   "metadata": {
    "tags": []
   },
   "outputs": [
    {
     "name": "stdout",
     "output_type": "stream",
     "text": [
      "Benchmarking parquet write...\n",
      "Average write time: 0.5078872155398131\n",
      "Benchmarking parquet read...\n",
      "Average read time: 0.1234864704310894\n",
      "\n",
      "Benchmarking gpkg (pyogrio) write...\n",
      "Average write time: 11.920551314204932\n",
      "Benchmarking gpkg (pyogrio) read...\n",
      "Average read time: 1.5011780258268117\n",
      "\n",
      "Benchmarking gpkg write...\n",
      "Average write time: 24.14802696108818\n",
      "Benchmarking gpkg read...\n",
      "Average read time: 24.284071439504622\n",
      "\n",
      "Benchmarking shp (pyogrio) write...\n",
      "Average write time: 5.485086791217327\n",
      "Benchmarking shp (pyogrio) read...\n",
      "Average read time: 1.225369233265519\n",
      "\n",
      "Benchmarking shp write...\n",
      "Average write time: 16.826891127601264\n",
      "Benchmarking shp read...\n",
      "Average read time: 23.034670016914607\n",
      "\n"
     ]
    }
   ],
   "source": [
    "path_to_file = \"/home/jovyan/geobench/data/larger.gpkg\"\n",
    "bench_dir = \"/home/jovyan/geobench/outputs\"\n",
    "\n",
    "def write_geo_data(df, filename, format, driver, use_pyogrio=True):\n",
    "    engine = \"pyogrio\" if use_pyogrio else None\n",
    "    gdf_to_save = df.copy()\n",
    "    \n",
    "    # Convert datetime column to string\n",
    "    if 'time' in gdf_to_save.columns:\n",
    "        gdf_to_save['time'] = gdf_to_save['time'].astype(str)\n",
    "    \n",
    "    # Handle column naming restrictions for ESRI Shapefile\n",
    "    if format == 'shapefile':\n",
    "        for col in gdf_to_save.columns:\n",
    "            if len(col) > 10:\n",
    "                gdf_to_save.rename(columns={col: col[:10]}, inplace=True)\n",
    "    \n",
    "    if format == 'parquet':\n",
    "        gdf_to_save.to_parquet(os.path.join(bench_dir, filename))\n",
    "    else:\n",
    "        gdf_to_save.to_file(os.path.join(bench_dir, filename), driver=driver, engine=engine)\n",
    "\n",
    "def read_geo_data(filename, format, use_pyogrio=True):\n",
    "    engine = \"pyogrio\" if use_pyogrio else None\n",
    "    \n",
    "    if format == 'parquet':\n",
    "        gdf = gpd.read_parquet(os.path.join(bench_dir, filename))\n",
    "    else:\n",
    "        gdf = gpd.read_file(os.path.join(bench_dir, filename), engine=engine)\n",
    "    \n",
    "    # Convert string column back to datetime\n",
    "    if 'time' in gdf.columns:\n",
    "        gdf['time'] = pd.to_datetime(gdf['time'])\n",
    "    \n",
    "    return gdf\n",
    "\n",
    "# Load the dataframe\n",
    "df = gpd.read_file(path_to_file, engine=\"pyogrio\")\n",
    "\n",
    "number_of_repeats = 5\n",
    "\n",
    "formats = [\n",
    "    {'filename': 'test.parquet', 'format': 'parquet', 'driver': None, 'label': 'parquet'},\n",
    "    {'filename': 'test.gpkg', 'format': 'geopackage', 'driver': 'GPKG', 'label': 'gpkg (pyogrio)'},\n",
    "    {'filename': 'test.gpkg', 'format': 'geopackage', 'driver': 'GPKG', 'label': 'gpkg', 'use_pyogrio': False},\n",
    "    {'filename': 'test.shp', 'format': 'shapefile', 'driver': 'ESRI Shapefile', 'label': 'shp (pyogrio)'},\n",
    "    {'filename': 'test.shp', 'format': 'shapefile', 'driver': 'ESRI Shapefile', 'label': 'shp', 'use_pyogrio': False},\n",
    "    # {'filename': 'test.fgb', 'format': 'flatgeobuf', 'driver': 'FlatGeobuf', 'label': 'fgb'}\n",
    "]\n",
    "\n",
    "write_results = []\n",
    "read_results = []\n",
    "\n",
    "for fmt in formats:\n",
    "    print(f\"Benchmarking {fmt['label']} write...\")\n",
    "    write_time = timeit.timeit(lambda: write_geo_data(df, fmt['filename'], fmt['format'], fmt['driver'], fmt.get('use_pyogrio', True)), number=number_of_repeats) / number_of_repeats\n",
    "    print(f\"Average write time: {write_time}\")\n",
    "    write_results.append({\n",
    "        'Format': fmt['label'],\n",
    "        'Average Write Time (s)': write_time\n",
    "    })\n",
    "\n",
    "    print(f\"Benchmarking {fmt['label']} read...\")\n",
    "    read_time = timeit.timeit(lambda: read_geo_data(fmt['filename'], fmt['format'], fmt.get('use_pyogrio', True)), number=number_of_repeats) / number_of_repeats\n",
    "    print(f\"Average read time: {read_time}\\n\")\n",
    "    read_results.append({\n",
    "        'Format': fmt['label'],\n",
    "        'Average Read Time (s)': read_time\n",
    "    })\n",
    "\n",
    "write_df = pd.DataFrame(write_results)\n",
    "read_df = pd.DataFrame(read_results)\n",
    "\n",
    "combined_df = write_df.merge(read_df, on='Format')\n",
    "melted_df = combined_df.melt(id_vars=['Format'], value_vars=['Average Write Time (s)', 'Average Read Time (s)'])\n",
    "\n",
    "# Simplify the variable names for the hue labels\n",
    "melted_df['variable'] = melted_df['variable'].replace({\n",
    "    'Average Write Time (s)': 'Write',\n",
    "    'Average Read Time (s)': 'Read'\n",
    "})\n",
    "\n",
    "melted_df = melted_df.sort_values(by='value', ascending=True)  "
   ]
  },
  {
   "cell_type": "code",
   "execution_count": 10,
   "id": "6d85acf8-8cb2-4136-b95a-26bdd8c33034",
   "metadata": {
    "tags": []
   },
   "outputs": [
    {
     "data": {
      "image/png": "[encoded data removed]",
      "text/plain": [
       "<Figure size 800x500 with 1 Axes>"
      ]
     },
     "metadata": {},
     "output_type": "display_data"
    }
   ],
   "source": [
    "plt.figure(figsize=(8, 5))\n",
    "\n",
    "sns.barplot(x='Format', y='value', hue='variable', data=melted_df, zorder=2)\n",
    "plt.xlabel('')\n",
    "plt.ylabel('Average Time (s)')\n",
    "plt.title('Benchmarking GeoPandas IO Speeds')\n",
    "plt.legend(loc='center left')\n",
    "\n",
    "plt.annotate('@jonm3d',\n",
    "             xy=(0.01, 0.96), \n",
    "             xycoords='axes fraction',\n",
    "             fontsize=10, \n",
    "             alpha=0.7,\n",
    "             color='grey')\n",
    "\n",
    "plt.grid(zorder=1)\n",
    "\n",
    "plt.tight_layout()\n",
    "\n",
    "plt.savefig(os.path.join(bench_dir, 'speed_results.png'))"
   ]
  },
  {
   "cell_type": "code",
   "execution_count": 11,
   "id": "90d51042-cfa0-4c45-9c34-4ff4a3f224f6",
   "metadata": {
    "tags": []
   },
   "outputs": [
    {
     "data": {
      "image/png": "[encoded data removed]",
      "text/plain": [
       "<Figure size 600x500 with 1 Axes>"
      ]
     },
     "metadata": {},
     "output_type": "display_data"
    }
   ],
   "source": [
    "def get_file_size(file_path):\n",
    "    size = os.path.getsize(file_path) / 1024 / 1024  # Convert to MB\n",
    "    if file_path.endswith('.shp'):\n",
    "        # For Shapefiles, also account for .shx, .dbf and any other potential sidecar files\n",
    "        base_path = file_path[:-4]  # remove .shp extension\n",
    "        for ext in ['.shx', '.dbf', '.prj', '.sbn', '.sbx', '.cpg']:\n",
    "            sidecar_file = base_path + ext\n",
    "            if os.path.exists(sidecar_file):\n",
    "                size += os.path.getsize(sidecar_file) / 1024 / 1024\n",
    "    return size\n",
    "\n",
    "\n",
    "parquet_file_size = get_file_size(os.path.join(bench_dir, 'test.parquet'))\n",
    "gpkg_file_size = get_file_size(os.path.join(bench_dir, 'test.gpkg'))\n",
    "shp_file_size = get_file_size(os.path.join(bench_dir, 'test.shp'))\n",
    "# fgb_file_size = get_file_size(os.path.join(bench_dir, 'test.fgb'))\n",
    "\n",
    "# Create DataFrame to store results\n",
    "size_results = {\n",
    "    'Format': ['parquet', 'gpkg', 'shapefile (total)'],\n",
    "    'MB': [parquet_file_size, gpkg_file_size, shp_file_size] #, fgb_file_size]\n",
    "}\n",
    "size_df = pd.DataFrame(size_results)\n",
    "\n",
    "plt.figure(figsize=(6, 5))\n",
    "ax = sns.barplot(x='Format', y='MB', data=size_df, zorder=2)\n",
    "\n",
    "plt.annotate('@jonm3d',\n",
    "             xy=(0.01, 0.96), \n",
    "             xycoords='axes fraction',\n",
    "             fontsize=10, \n",
    "             alpha=0.7,\n",
    "             color='grey')\n",
    "\n",
    "plt.grid(zorder=1)\n",
    "\n",
    "# Setting integer only y-axis\n",
    "ax.yaxis.set_major_locator(MaxNLocator(integer=True))\n",
    "\n",
    "plt.title('Compressed File Size')\n",
    "plt.xlabel('')\n",
    "plt.tight_layout()\n",
    "plt.savefig(os.path.join(bench_dir, 'size_results.png'))\n"
   ]
  },
  {
   "cell_type": "markdown",
   "id": "a2b6b2b0-dac1-44ad-ba5d-5196939ae710",
   "metadata": {
    "user_expressions": []
   },
   "source": [
    "Let's make sure the data we read in both ways is actually the same and there wasn't some error."
   ]
  },
  {
   "cell_type": "code",
   "execution_count": 6,
   "id": "1ad1fcc9-59fc-4c73-b6f0-8b870319d17a",
   "metadata": {
    "tags": []
   },
   "outputs": [
    {
     "name": "stdout",
     "output_type": "stream",
     "text": [
      "Reading test data...\n",
      "The data in the GeoPackage file matches the Parquet data!\n",
      "The data in the Shapefile file matches the Parquet data!\n"
     ]
    }
   ],
   "source": [
    "def compare_geodataframes(gdf1, gdf2):\n",
    "    # Check shape\n",
    "    if gdf1.shape != gdf2.shape:\n",
    "        return False\n",
    "\n",
    "    # Check geometry equality\n",
    "    if not gdf1.geometry.equals(gdf2.geometry):\n",
    "        return False\n",
    "    \n",
    "    # Compare time columns if present\n",
    "    if \"time\" in gdf1.columns and \"time\" in gdf2.columns:\n",
    "        # Check if either geodataframe has time in datetime format\n",
    "        if isinstance(gdf1[\"time\"].iloc[0], pd.Timestamp):\n",
    "            time1 = gdf1[\"time\"].dt.strftime('%Y-%m-%d %H:%M:%S')\n",
    "        else:\n",
    "            time1 = gdf1[\"time\"]\n",
    "\n",
    "        if isinstance(gdf2[\"time\"].iloc[0], pd.Timestamp):\n",
    "            time2 = gdf2[\"time\"].dt.strftime('%Y-%m-%d %H:%M:%S')\n",
    "        else:\n",
    "            time2 = gdf2[\"time\"]\n",
    "\n",
    "        if not (time1 == time2).all():\n",
    "            print(\"Discrepancy found in the time column\")\n",
    "            return False\n",
    "\n",
    "    # Check attribute data equality ignoring the column names\n",
    "    for col_gdf1, col_gdf2 in zip(gdf1.drop(columns=[\"geometry\", \"time\"]).columns, gdf2.drop(columns=[\"geometry\", \"time\"]).columns):\n",
    "        # Using numpy's isclose method to compare column values, considering floating point inaccuracies\n",
    "        if not np.isclose(gdf1[col_gdf1], gdf2[col_gdf2], equal_nan=True).all():\n",
    "            print(f\"Discrepancy found in column: {col_gdf1}\")\n",
    "            return False\n",
    "\n",
    "    return True\n",
    "\n",
    "\n",
    "\n",
    "# Read data from each format into separate geodataframes\n",
    "print(\"Reading test data...\")\n",
    "gdf_parquet = gpd.read_parquet(os.path.join(bench_dir, 'test.parquet'))\n",
    "gdf_gpkg = gpd.read_file(os.path.join(bench_dir, 'test.gpkg'), engine=\"pyogrio\")\n",
    "gdf_shp = gpd.read_file(os.path.join(bench_dir, 'test.shp'), engine=\"pyogrio\")\n",
    "# gdf_fgb = gpd.read_file(os.path.join(bench_dir, 'test.fgb'), engine=\"pyogrio\")\n",
    "\n",
    "# We will compare all geodataframes with the parquet file as reference\n",
    "gdfs = {\n",
    "    'GeoPackage': gdf_gpkg,\n",
    "    'Shapefile': gdf_shp,\n",
    "    # 'FlatGeobuf': gdf_fgb\n",
    "}\n",
    "\n",
    "for name, gdf in gdfs.items():\n",
    "    are_equal = compare_geodataframes(gdf_parquet, gdf)\n",
    "    if are_equal:\n",
    "        print(f'The data in the {name} file matches the Parquet data!')\n",
    "    else:\n",
    "        print(f'Something went wrong; the data in the {name} file is different now.')\n"
   ]
  },
  {
   "cell_type": "markdown",
   "id": "488f1e2b-c8f8-4c26-b55a-4ca9a8e4dbae",
   "metadata": {
    "user_expressions": []
   },
   "source": [
    "If you have to use GeoPackage, be sure to use the pyogrio engine! Otherwise use Parquet wherever read/write speed or compressed size matters most."
   ]
  }
 ],
 "metadata": {
  "kernelspec": {
   "display_name": "Python 3 (ipykernel)",
   "language": "python",
   "name": "python3"
  },
  "language_info": {
   "codemirror_mode": {
    "name": "ipython",
    "version": 3
   },
   "file_extension": ".py",
   "mimetype": "text/x-python",
   "name": "python",
   "nbconvert_exporter": "python",
   "pygments_lexer": "ipython3",
   "version": "3.10.12"
  }
 },
 "nbformat": 4,
 "nbformat_minor": 5
}
